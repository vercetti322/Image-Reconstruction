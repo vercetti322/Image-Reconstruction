{
 "cells": [
  {
   "cell_type": "markdown",
   "metadata": {},
   "source": [
    "# Process the MNIST Dataset"
   ]
  },
  {
   "cell_type": "code",
   "execution_count": 14,
   "metadata": {},
   "outputs": [
    {
     "name": "stdout",
     "output_type": "stream",
     "text": [
      "Training set contains non-zero values: True\n",
      "Test set contains non-zero values: True\n"
     ]
    }
   ],
   "source": [
    "import numpy as np\n",
    "from tensorflow.keras.datasets import mnist\n",
    "\n",
    "# Load the MNIST dataset\n",
    "(X_train, _), (X_test, _) = mnist.load_data()\n",
    "\n",
    "# Reshape and normalize the features\n",
    "X_train = (X_train.reshape((len(X_train), -1)) / 255.0).astype(np.float32)\n",
    "X_test = (X_test.reshape((len(X_test), -1)) / 255.0).astype(np.float32)\n",
    "\n",
    "# Save the preprocessed data to a .npz file\n",
    "np.savez(\"mnist_preprocessed.npz\", X_train=X_train, X_test=X_test)\n",
    "\n",
    "# Load the preprocessed data from the .npz file\n",
    "data = np.load(\"mnist_preprocessed.npz\")\n",
    "X_train_loaded = data[\"X_train\"]\n",
    "X_test_loaded = data[\"X_test\"]\n",
    "\n",
    "# Check if the loaded arrays contain non-zero values\n",
    "print(\"Training set contains non-zero values:\", np.any(X_train_loaded != 0))\n",
    "print(\"Test set contains non-zero values:\", np.any(X_test_loaded != 0))"
   ]
  }
 ],
 "metadata": {
  "kernelspec": {
   "display_name": "Python 3",
   "language": "python",
   "name": "python3"
  },
  "language_info": {
   "codemirror_mode": {
    "name": "ipython",
    "version": 3
   },
   "file_extension": ".py",
   "mimetype": "text/x-python",
   "name": "python",
   "nbconvert_exporter": "python",
   "pygments_lexer": "ipython3",
   "version": "3.12.1"
  }
 },
 "nbformat": 4,
 "nbformat_minor": 2
}
